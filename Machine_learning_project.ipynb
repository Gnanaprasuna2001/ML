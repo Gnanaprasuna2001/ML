{
  "nbformat": 4,
  "nbformat_minor": 0,
  "metadata": {
    "colab": {
      "name": "Machine learning project.ipynb",
      "provenance": [],
      "toc_visible": true,
      "authorship_tag": "ABX9TyNnrNOuLEFn0A6db3nO+uOR",
      "include_colab_link": true
    },
    "kernelspec": {
      "name": "python3",
      "display_name": "Python 3"
    },
    "language_info": {
      "name": "python"
    }
  },
  "cells": [
    {
      "cell_type": "markdown",
      "metadata": {
        "id": "view-in-github",
        "colab_type": "text"
      },
      "source": [
        "<a href=\"https://colab.research.google.com/github/Gnanaprasuna2001/ML/blob/main/Machine_learning_project.ipynb\" target=\"_parent\"><img src=\"https://colab.research.google.com/assets/colab-badge.svg\" alt=\"Open In Colab\"/></a>"
      ]
    },
    {
      "cell_type": "markdown",
      "metadata": {
        "id": "mzrTPc2BKw4U"
      },
      "source": [
        "**KEERTHIPATI GNANA PRASUNA**\n"
      ]
    },
    {
      "cell_type": "markdown",
      "metadata": {
        "id": "Hn236XDvLoWY"
      },
      "source": [
        "\n",
        "**20191CSE0254**"
      ]
    },
    {
      "cell_type": "markdown",
      "metadata": {
        "id": "B1NcaR7TL_aj"
      },
      "source": [
        "**PREDICTING THE SALARY BASED ON EXPERIENCE**"
      ]
    },
    {
      "cell_type": "code",
      "metadata": {
        "id": "74wC2yBDDwhu"
      },
      "source": [
        "import numpy as np\n",
        "import matplotlib.pyplot as plt\n",
        "import pandas as pd"
      ],
      "execution_count": null,
      "outputs": []
    },
    {
      "cell_type": "code",
      "metadata": {
        "id": "f38B8igEE4uh"
      },
      "source": [
        "dataset=pd.read_csv(r\"/content/sample_data/Salary_Data.csv\")"
      ],
      "execution_count": null,
      "outputs": []
    },
    {
      "cell_type": "code",
      "metadata": {
        "colab": {
          "base_uri": "https://localhost:8080/",
          "height": 357
        },
        "id": "Zr3JDDriFUEk",
        "outputId": "4f1d3378-ca66-4073-a089-deae9c330251"
      },
      "source": [
        "dataset.head(10)"
      ],
      "execution_count": null,
      "outputs": [
        {
          "output_type": "execute_result",
          "data": {
            "text/html": [
              "<div>\n",
              "<style scoped>\n",
              "    .dataframe tbody tr th:only-of-type {\n",
              "        vertical-align: middle;\n",
              "    }\n",
              "\n",
              "    .dataframe tbody tr th {\n",
              "        vertical-align: top;\n",
              "    }\n",
              "\n",
              "    .dataframe thead th {\n",
              "        text-align: right;\n",
              "    }\n",
              "</style>\n",
              "<table border=\"1\" class=\"dataframe\">\n",
              "  <thead>\n",
              "    <tr style=\"text-align: right;\">\n",
              "      <th></th>\n",
              "      <th>YearsExperience</th>\n",
              "      <th>Salary</th>\n",
              "    </tr>\n",
              "  </thead>\n",
              "  <tbody>\n",
              "    <tr>\n",
              "      <th>0</th>\n",
              "      <td>1.1</td>\n",
              "      <td>39343.0</td>\n",
              "    </tr>\n",
              "    <tr>\n",
              "      <th>1</th>\n",
              "      <td>1.3</td>\n",
              "      <td>46205.0</td>\n",
              "    </tr>\n",
              "    <tr>\n",
              "      <th>2</th>\n",
              "      <td>1.5</td>\n",
              "      <td>37731.0</td>\n",
              "    </tr>\n",
              "    <tr>\n",
              "      <th>3</th>\n",
              "      <td>2.0</td>\n",
              "      <td>43525.0</td>\n",
              "    </tr>\n",
              "    <tr>\n",
              "      <th>4</th>\n",
              "      <td>2.2</td>\n",
              "      <td>39891.0</td>\n",
              "    </tr>\n",
              "    <tr>\n",
              "      <th>5</th>\n",
              "      <td>2.9</td>\n",
              "      <td>56642.0</td>\n",
              "    </tr>\n",
              "    <tr>\n",
              "      <th>6</th>\n",
              "      <td>3.0</td>\n",
              "      <td>60150.0</td>\n",
              "    </tr>\n",
              "    <tr>\n",
              "      <th>7</th>\n",
              "      <td>3.2</td>\n",
              "      <td>54445.0</td>\n",
              "    </tr>\n",
              "    <tr>\n",
              "      <th>8</th>\n",
              "      <td>3.2</td>\n",
              "      <td>64445.0</td>\n",
              "    </tr>\n",
              "    <tr>\n",
              "      <th>9</th>\n",
              "      <td>3.7</td>\n",
              "      <td>57189.0</td>\n",
              "    </tr>\n",
              "  </tbody>\n",
              "</table>\n",
              "</div>"
            ],
            "text/plain": [
              "   YearsExperience   Salary\n",
              "0              1.1  39343.0\n",
              "1              1.3  46205.0\n",
              "2              1.5  37731.0\n",
              "3              2.0  43525.0\n",
              "4              2.2  39891.0\n",
              "5              2.9  56642.0\n",
              "6              3.0  60150.0\n",
              "7              3.2  54445.0\n",
              "8              3.2  64445.0\n",
              "9              3.7  57189.0"
            ]
          },
          "metadata": {},
          "execution_count": 3
        }
      ]
    },
    {
      "cell_type": "code",
      "metadata": {
        "colab": {
          "base_uri": "https://localhost:8080/",
          "height": 296
        },
        "id": "2YH_US8tFlkK",
        "outputId": "4b3ecade-2ebe-480a-f122-e0e1843beb38"
      },
      "source": [
        "plt.scatter(dataset['YearsExperience'],dataset['Salary'])\n",
        "plt.xlabel('Years of Experience')\n",
        "plt.ylabel(\"Salary\")\n",
        "plt.show()\n",
        "plt.savefig(r'D:\\Python37\\Years of Experience.jpg')"
      ],
      "execution_count": null,
      "outputs": [
        {
          "output_type": "display_data",
          "data": {
            "image/png": "[encoded data removed]",
            "text/plain": [
              "<Figure size 432x288 with 1 Axes>"
            ]
          },
          "metadata": {
            "needs_background": "light"
          }
        },
        {
          "output_type": "display_data",
          "data": {
            "text/plain": [
              "<Figure size 432x288 with 0 Axes>"
            ]
          },
          "metadata": {}
        }
      ]
    },
    {
      "cell_type": "code",
      "metadata": {
        "id": "F_qcpjb2Fy8Y"
      },
      "source": [
        "X = dataset.iloc[:,:-1].values\n",
        "y=dataset.iloc[:,-1].values"
      ],
      "execution_count": null,
      "outputs": []
    },
    {
      "cell_type": "code",
      "metadata": {
        "colab": {
          "base_uri": "https://localhost:8080/"
        },
        "id": "q4xlXuk8F5bX",
        "outputId": "f8deb61c-e55f-4e24-bccd-7fd643a527d2"
      },
      "source": [
        "X"
      ],
      "execution_count": null,
      "outputs": [
        {
          "output_type": "execute_result",
          "data": {
            "text/plain": [
              "array([[ 1.1],\n",
              "       [ 1.3],\n",
              "       [ 1.5],\n",
              "       [ 2. ],\n",
              "       [ 2.2],\n",
              "       [ 2.9],\n",
              "       [ 3. ],\n",
              "       [ 3.2],\n",
              "       [ 3.2],\n",
              "       [ 3.7],\n",
              "       [ 3.9],\n",
              "       [ 4. ],\n",
              "       [ 4. ],\n",
              "       [ 4.1],\n",
              "       [ 4.5],\n",
              "       [ 4.9],\n",
              "       [ 5.1],\n",
              "       [ 5.3],\n",
              "       [ 5.9],\n",
              "       [ 6. ],\n",
              "       [ 6.8],\n",
              "       [ 7.1],\n",
              "       [ 7.9],\n",
              "       [ 8.2],\n",
              "       [ 8.7],\n",
              "       [ 9. ],\n",
              "       [ 9.5],\n",
              "       [ 9.6],\n",
              "       [10.3],\n",
              "       [10.5]])"
            ]
          },
          "metadata": {},
          "execution_count": 6
        }
      ]
    },
    {
      "cell_type": "code",
      "metadata": {
        "colab": {
          "base_uri": "https://localhost:8080/"
        },
        "id": "NehgUJNbGFN9",
        "outputId": "ed6a60cc-88b1-452e-b945-5f60bb404473"
      },
      "source": [
        "y"
      ],
      "execution_count": null,
      "outputs": [
        {
          "output_type": "execute_result",
          "data": {
            "text/plain": [
              "array([ 39343.,  46205.,  37731.,  43525.,  39891.,  56642.,  60150.,\n",
              "        54445.,  64445.,  57189.,  63218.,  55794.,  56957.,  57081.,\n",
              "        61111.,  67938.,  66029.,  83088.,  81363.,  93940.,  91738.,\n",
              "        98273., 101302., 113812., 109431., 105582., 116969., 112635.,\n",
              "       122391., 121872.])"
            ]
          },
          "metadata": {},
          "execution_count": 7
        }
      ]
    },
    {
      "cell_type": "code",
      "metadata": {
        "id": "v1XSHJ3IGlcN"
      },
      "source": [
        "from sklearn.model_selection import train_test_split"
      ],
      "execution_count": null,
      "outputs": []
    },
    {
      "cell_type": "code",
      "metadata": {
        "id": "cw4fdei2GxUS"
      },
      "source": [
        "X_train,X_test,y_train,y_test=train_test_split(X,y,test_size=1/3,random_state=101)"
      ],
      "execution_count": null,
      "outputs": []
    },
    {
      "cell_type": "code",
      "metadata": {
        "colab": {
          "base_uri": "https://localhost:8080/"
        },
        "id": "cAQPYmbhG-zW",
        "outputId": "124f00e6-025e-4541-d928-bb2af8160e1c"
      },
      "source": [
        "X_train"
      ],
      "execution_count": null,
      "outputs": [
        {
          "output_type": "execute_result",
          "data": {
            "text/plain": [
              "array([[ 3.9],\n",
              "       [ 2. ],\n",
              "       [ 1.3],\n",
              "       [ 6. ],\n",
              "       [ 7.9],\n",
              "       [ 4. ],\n",
              "       [ 2.9],\n",
              "       [ 4.5],\n",
              "       [ 1.1],\n",
              "       [ 7.1],\n",
              "       [ 2.2],\n",
              "       [ 3.2],\n",
              "       [ 4.1],\n",
              "       [ 3.7],\n",
              "       [ 4.9],\n",
              "       [10.5],\n",
              "       [ 8.2],\n",
              "       [ 3. ],\n",
              "       [ 5.3],\n",
              "       [ 4. ]])"
            ]
          },
          "metadata": {},
          "execution_count": 10
        }
      ]
    },
    {
      "cell_type": "code",
      "metadata": {
        "colab": {
          "base_uri": "https://localhost:8080/"
        },
        "id": "HaZELjAaHFaK",
        "outputId": "2f1be0e3-c3a2-44d6-d129-310af9451f41"
      },
      "source": [
        "X_test"
      ],
      "execution_count": null,
      "outputs": [
        {
          "output_type": "execute_result",
          "data": {
            "text/plain": [
              "array([[ 6.8],\n",
              "       [ 8.7],\n",
              "       [ 3.2],\n",
              "       [ 5.9],\n",
              "       [ 1.5],\n",
              "       [ 9.6],\n",
              "       [ 9.5],\n",
              "       [ 5.1],\n",
              "       [ 9. ],\n",
              "       [10.3]])"
            ]
          },
          "metadata": {},
          "execution_count": 11
        }
      ]
    },
    {
      "cell_type": "code",
      "metadata": {
        "colab": {
          "base_uri": "https://localhost:8080/"
        },
        "id": "OjGPMV68HKhY",
        "outputId": "cf85828a-6e6e-4388-f069-1b7bc81b8813"
      },
      "source": [
        "y_train"
      ],
      "execution_count": null,
      "outputs": [
        {
          "output_type": "execute_result",
          "data": {
            "text/plain": [
              "array([ 63218.,  43525.,  46205.,  93940., 101302.,  56957.,  56642.,\n",
              "        61111.,  39343.,  98273.,  39891.,  64445.,  57081.,  57189.,\n",
              "        67938., 121872., 113812.,  60150.,  83088.,  55794.])"
            ]
          },
          "metadata": {},
          "execution_count": 12
        }
      ]
    },
    {
      "cell_type": "code",
      "metadata": {
        "colab": {
          "base_uri": "https://localhost:8080/"
        },
        "id": "6uPzazGlHQ5q",
        "outputId": "20b4a2b1-ad20-431a-bb3c-8d22d4ed17f8"
      },
      "source": [
        "y_test"
      ],
      "execution_count": null,
      "outputs": [
        {
          "output_type": "execute_result",
          "data": {
            "text/plain": [
              "array([ 91738., 109431.,  54445.,  81363.,  37731., 112635., 116969.,\n",
              "        66029., 105582., 122391.])"
            ]
          },
          "metadata": {},
          "execution_count": 13
        }
      ]
    },
    {
      "cell_type": "markdown",
      "metadata": {
        "id": "iLneRN3CHsUA"
      },
      "source": [
        "**#LINEAR REGRESSION**"
      ]
    },
    {
      "cell_type": "code",
      "metadata": {
        "id": "jizJHHhBH7lL"
      },
      "source": [
        "from sklearn.linear_model import LinearRegression\n",
        "LR=LinearRegression()"
      ],
      "execution_count": null,
      "outputs": []
    },
    {
      "cell_type": "code",
      "metadata": {
        "colab": {
          "base_uri": "https://localhost:8080/"
        },
        "id": "KPZnR9TPIGeI",
        "outputId": "5e815d64-c024-47dc-e866-6ca24345835a"
      },
      "source": [
        "LR.fit(X_train,y_train)"
      ],
      "execution_count": null,
      "outputs": [
        {
          "output_type": "execute_result",
          "data": {
            "text/plain": [
              "LinearRegression(copy_X=True, fit_intercept=True, n_jobs=None, normalize=False)"
            ]
          },
          "metadata": {},
          "execution_count": 15
        }
      ]
    },
    {
      "cell_type": "code",
      "metadata": {
        "colab": {
          "base_uri": "https://localhost:8080/"
        },
        "id": "d7X8CsyGILse",
        "outputId": "561f148f-ee01-4f8e-a001-c8bee21a1982"
      },
      "source": [
        "LinearRegression()"
      ],
      "execution_count": null,
      "outputs": [
        {
          "output_type": "execute_result",
          "data": {
            "text/plain": [
              "LinearRegression(copy_X=True, fit_intercept=True, n_jobs=None, normalize=False)"
            ]
          },
          "metadata": {},
          "execution_count": 16
        }
      ]
    },
    {
      "cell_type": "code",
      "metadata": {
        "id": "mo0oF-z7ITez"
      },
      "source": [
        "y_pred_LR=LR.predict(X_test)"
      ],
      "execution_count": null,
      "outputs": []
    },
    {
      "cell_type": "code",
      "metadata": {
        "colab": {
          "base_uri": "https://localhost:8080/"
        },
        "id": "xZKD4ottIZ8q",
        "outputId": "eb7a62f8-5a35-4a0c-9157-045e50365406"
      },
      "source": [
        "X_test"
      ],
      "execution_count": null,
      "outputs": [
        {
          "output_type": "execute_result",
          "data": {
            "text/plain": [
              "array([[ 6.8],\n",
              "       [ 8.7],\n",
              "       [ 3.2],\n",
              "       [ 5.9],\n",
              "       [ 1.5],\n",
              "       [ 9.6],\n",
              "       [ 9.5],\n",
              "       [ 5.1],\n",
              "       [ 9. ],\n",
              "       [10.3]])"
            ]
          },
          "metadata": {},
          "execution_count": 18
        }
      ]
    },
    {
      "cell_type": "code",
      "metadata": {
        "colab": {
          "base_uri": "https://localhost:8080/"
        },
        "id": "IuI9RxN0IgNC",
        "outputId": "d15da02c-4bdf-49a5-d1e4-0d8f3ca3f4e4"
      },
      "source": [
        "y_test"
      ],
      "execution_count": null,
      "outputs": [
        {
          "output_type": "execute_result",
          "data": {
            "text/plain": [
              "array([ 91738., 109431.,  54445.,  81363.,  37731., 112635., 116969.,\n",
              "        66029., 105582., 122391.])"
            ]
          },
          "metadata": {},
          "execution_count": 19
        }
      ]
    },
    {
      "cell_type": "code",
      "metadata": {
        "colab": {
          "base_uri": "https://localhost:8080/"
        },
        "id": "Phauss-8InGw",
        "outputId": "3b0eae3c-73cc-4642-8c31-ec9e901f2851"
      },
      "source": [
        "y_pred_LR"
      ],
      "execution_count": null,
      "outputs": [
        {
          "output_type": "execute_result",
          "data": {
            "text/plain": [
              "array([ 91477.92796603, 109893.22802466,  56585.7804865 ,  82754.89109615,\n",
              "        40108.93306562, 118616.26489454, 117647.03857567,  75001.08054514,\n",
              "       112800.90698129, 125400.84912667])"
            ]
          },
          "metadata": {},
          "execution_count": 20
        }
      ]
    },
    {
      "cell_type": "code",
      "metadata": {
        "id": "c8b1DbIoItot"
      },
      "source": [
        "diff_LR=y_test-y_pred_LR"
      ],
      "execution_count": null,
      "outputs": []
    },
    {
      "cell_type": "code",
      "metadata": {
        "id": "dRIr-sGbIzN8"
      },
      "source": [
        "res_df=pd.concat([pd.Series(y_pred_LR),pd.Series(y_test),pd.Series(diff_LR)],axis=1)\n",
        "res_df.columns=['Prediction','Original Data','Diff']"
      ],
      "execution_count": null,
      "outputs": []
    },
    {
      "cell_type": "code",
      "metadata": {
        "colab": {
          "base_uri": "https://localhost:8080/",
          "height": 357
        },
        "id": "-Kyjo2cfI3en",
        "outputId": "c12b6842-2367-42ef-a85b-2e61329a3cf0"
      },
      "source": [
        "res_df"
      ],
      "execution_count": null,
      "outputs": [
        {
          "output_type": "execute_result",
          "data": {
            "text/html": [
              "<div>\n",
              "<style scoped>\n",
              "    .dataframe tbody tr th:only-of-type {\n",
              "        vertical-align: middle;\n",
              "    }\n",
              "\n",
              "    .dataframe tbody tr th {\n",
              "        vertical-align: top;\n",
              "    }\n",
              "\n",
              "    .dataframe thead th {\n",
              "        text-align: right;\n",
              "    }\n",
              "</style>\n",
              "<table border=\"1\" class=\"dataframe\">\n",
              "  <thead>\n",
              "    <tr style=\"text-align: right;\">\n",
              "      <th></th>\n",
              "      <th>Prediction</th>\n",
              "      <th>Original Data</th>\n",
              "      <th>Diff</th>\n",
              "    </tr>\n",
              "  </thead>\n",
              "  <tbody>\n",
              "    <tr>\n",
              "      <th>0</th>\n",
              "      <td>91477.927966</td>\n",
              "      <td>91738.0</td>\n",
              "      <td>260.072034</td>\n",
              "    </tr>\n",
              "    <tr>\n",
              "      <th>1</th>\n",
              "      <td>109893.228025</td>\n",
              "      <td>109431.0</td>\n",
              "      <td>-462.228025</td>\n",
              "    </tr>\n",
              "    <tr>\n",
              "      <th>2</th>\n",
              "      <td>56585.780487</td>\n",
              "      <td>54445.0</td>\n",
              "      <td>-2140.780487</td>\n",
              "    </tr>\n",
              "    <tr>\n",
              "      <th>3</th>\n",
              "      <td>82754.891096</td>\n",
              "      <td>81363.0</td>\n",
              "      <td>-1391.891096</td>\n",
              "    </tr>\n",
              "    <tr>\n",
              "      <th>4</th>\n",
              "      <td>40108.933066</td>\n",
              "      <td>37731.0</td>\n",
              "      <td>-2377.933066</td>\n",
              "    </tr>\n",
              "    <tr>\n",
              "      <th>5</th>\n",
              "      <td>118616.264895</td>\n",
              "      <td>112635.0</td>\n",
              "      <td>-5981.264895</td>\n",
              "    </tr>\n",
              "    <tr>\n",
              "      <th>6</th>\n",
              "      <td>117647.038576</td>\n",
              "      <td>116969.0</td>\n",
              "      <td>-678.038576</td>\n",
              "    </tr>\n",
              "    <tr>\n",
              "      <th>7</th>\n",
              "      <td>75001.080545</td>\n",
              "      <td>66029.0</td>\n",
              "      <td>-8972.080545</td>\n",
              "    </tr>\n",
              "    <tr>\n",
              "      <th>8</th>\n",
              "      <td>112800.906981</td>\n",
              "      <td>105582.0</td>\n",
              "      <td>-7218.906981</td>\n",
              "    </tr>\n",
              "    <tr>\n",
              "      <th>9</th>\n",
              "      <td>125400.849127</td>\n",
              "      <td>122391.0</td>\n",
              "      <td>-3009.849127</td>\n",
              "    </tr>\n",
              "  </tbody>\n",
              "</table>\n",
              "</div>"
            ],
            "text/plain": [
              "      Prediction  Original Data         Diff\n",
              "0   91477.927966        91738.0   260.072034\n",
              "1  109893.228025       109431.0  -462.228025\n",
              "2   56585.780487        54445.0 -2140.780487\n",
              "3   82754.891096        81363.0 -1391.891096\n",
              "4   40108.933066        37731.0 -2377.933066\n",
              "5  118616.264895       112635.0 -5981.264895\n",
              "6  117647.038576       116969.0  -678.038576\n",
              "7   75001.080545        66029.0 -8972.080545\n",
              "8  112800.906981       105582.0 -7218.906981\n",
              "9  125400.849127       122391.0 -3009.849127"
            ]
          },
          "metadata": {},
          "execution_count": 23
        }
      ]
    },
    {
      "cell_type": "code",
      "metadata": {
        "colab": {
          "base_uri": "https://localhost:8080/",
          "height": 295
        },
        "id": "bWpTnib4I99W",
        "outputId": "8dbf2814-aa0e-413a-e209-4931c73ae2d5"
      },
      "source": [
        "plt.scatter(X_train,y_train,color='pink')\n",
        "plt.plot(X_train,LR.predict(X_train),color='yellow')\n",
        "plt.title('Salary vs Experience')\n",
        "plt.xlabel('Years of Experience')\n",
        "plt.ylabel(\"Salary\")\n",
        "plt.savefig(r'D:\\Python37\\Years of Experience.png')\n",
        "plt.show()"
      ],
      "execution_count": null,
      "outputs": [
        {
          "output_type": "display_data",
          "data": {
            "image/png": "[encoded data removed]",
            "text/plain": [
              "<Figure size 432x288 with 1 Axes>"
            ]
          },
          "metadata": {
            "needs_background": "light"
          }
        }
      ]
    },
    {
      "cell_type": "code",
      "metadata": {
        "colab": {
          "base_uri": "https://localhost:8080/",
          "height": 295
        },
        "id": "ROgmWYOSJKXh",
        "outputId": "127961bc-b2bb-4d8e-8981-1d5a4ecca965"
      },
      "source": [
        "plt.scatter(X_test,y_test,color='pink')\n",
        "plt.plot(X_train,LR.predict(X_train),color='yellow')\n",
        "plt.title('Salary vs Experience (Test Set)')\n",
        "plt.xlabel('Years of Experience')\n",
        "plt.ylabel(\"Salary\")\n",
        "plt.show()"
      ],
      "execution_count": null,
      "outputs": [
        {
          "output_type": "display_data",
          "data": {
            "image/png": "[encoded data removed]",
            "text/plain": [
              "<Figure size 432x288 with 1 Axes>"
            ]
          },
          "metadata": {
            "needs_background": "light"
          }
        }
      ]
    },
    {
      "cell_type": "markdown",
      "metadata": {
        "id": "1KZI5MxsJUnn"
      },
      "source": [
        "**#METRICS**"
      ]
    },
    {
      "cell_type": "code",
      "metadata": {
        "id": "53JVSGR9Jelj"
      },
      "source": [
        "from sklearn import metrics\n",
        "rmse= np.sqrt(metrics.mean_squared_error(y_test,y_pred_LR))\n",
        "R2=metrics.r2_score(y_test,y_pred_LR)"
      ],
      "execution_count": null,
      "outputs": []
    },
    {
      "cell_type": "code",
      "metadata": {
        "colab": {
          "base_uri": "https://localhost:8080/"
        },
        "id": "56CVxZg9Jo3O",
        "outputId": "21ecf0bb-674a-4fd7-c72a-e5fb93c2ecc2"
      },
      "source": [
        "rmse"
      ],
      "execution_count": null,
      "outputs": [
        {
          "output_type": "execute_result",
          "data": {
            "text/plain": [
              "4363.043260343273"
            ]
          },
          "metadata": {},
          "execution_count": 27
        }
      ]
    },
    {
      "cell_type": "code",
      "metadata": {
        "colab": {
          "base_uri": "https://localhost:8080/"
        },
        "id": "N45-JP0gJucE",
        "outputId": "55bbb30e-e20e-4f8f-ddae-b648e4859459"
      },
      "source": [
        "R2"
      ],
      "execution_count": null,
      "outputs": [
        {
          "output_type": "execute_result",
          "data": {
            "text/plain": [
              "0.974811112371526"
            ]
          },
          "metadata": {},
          "execution_count": 28
        }
      ]
    },
    {
      "cell_type": "code",
      "metadata": {
        "colab": {
          "base_uri": "https://localhost:8080/"
        },
        "id": "bpfF80F5J1jP",
        "outputId": "6f8eba4f-97da-4ed7-efc1-6ee698f65336"
      },
      "source": [
        "0.974811112371526"
      ],
      "execution_count": null,
      "outputs": [
        {
          "output_type": "execute_result",
          "data": {
            "text/plain": [
              "0.974811112371526"
            ]
          },
          "metadata": {},
          "execution_count": 29
        }
      ]
    },
    {
      "cell_type": "code",
      "metadata": {
        "colab": {
          "base_uri": "https://localhost:8080/"
        },
        "id": "WYt4xg0jJ6h8",
        "outputId": "71ea51ed-07d0-4ec2-92ea-60aedfcb9ae5"
      },
      "source": [
        "LR.predict([[3]])"
      ],
      "execution_count": null,
      "outputs": [
        {
          "output_type": "execute_result",
          "data": {
            "text/plain": [
              "array([54647.32784875])"
            ]
          },
          "metadata": {},
          "execution_count": 30
        }
      ]
    },
    {
      "cell_type": "markdown",
      "metadata": {
        "id": "7y7nsK_CKp4k"
      },
      "source": [
        ""
      ]
    }
  ]
}